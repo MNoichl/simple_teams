{
 "cells": [
  {
   "cell_type": "markdown",
   "metadata": {},
   "source": [
    "# Team-reasoning in HiLo\n",
    "This notebook implements a simulation of the hilo game using mesa. In the simulation, agents, which are either team-reasoners or not, are randomly assigned other players, with whom they play hilo. The players collected utilities are saved and displayed at the end of the model."
   ]
  },
  {
   "cell_type": "code",
   "execution_count": 1,
   "metadata": {},
   "outputs": [
    {
     "data": {
      "application/javascript": [
       "\n",
       "            setTimeout(function() {\n",
       "                var nbb_cell_id = 1;\n",
       "                var nbb_unformatted_code = \"# !pip install nashpy==0.0.20\\n\\n\\n# game-theoretic:\\nimport nashpy as nash\\n\\n# mesa:\\nfrom mesa import Agent, Model\\nfrom mesa.time import RandomActivation\\nfrom mesa.datacollection import DataCollector\\n\\n#standards:\\nimport numpy as np\\nimport tqdm\\n\\n# graphics:\\nimport seaborn as sns\\nimport matplotlib.pyplot as plt\\n\\n# code formatting:\\n%load_ext nb_black\";\n",
       "                var nbb_formatted_code = \"# !pip install nashpy==0.0.20\\n\\n\\n# game-theoretic:\\nimport nashpy as nash\\n\\n# mesa:\\nfrom mesa import Agent, Model\\nfrom mesa.time import RandomActivation\\nfrom mesa.datacollection import DataCollector\\n\\n# standards:\\nimport numpy as np\\nimport tqdm\\n\\n# graphics:\\nimport seaborn as sns\\nimport matplotlib.pyplot as plt\\n\\n# code formatting:\\n%load_ext nb_black\";\n",
       "                var nbb_cells = Jupyter.notebook.get_cells();\n",
       "                for (var i = 0; i < nbb_cells.length; ++i) {\n",
       "                    if (nbb_cells[i].input_prompt_number == nbb_cell_id) {\n",
       "                        if (nbb_cells[i].get_text() == nbb_unformatted_code) {\n",
       "                             nbb_cells[i].set_text(nbb_formatted_code);\n",
       "                        }\n",
       "                        break;\n",
       "                    }\n",
       "                }\n",
       "            }, 500);\n",
       "            "
      ],
      "text/plain": [
       "<IPython.core.display.Javascript object>"
      ]
     },
     "metadata": {},
     "output_type": "display_data"
    }
   ],
   "source": [
    "# !pip install nashpy==0.0.20\n",
    "\n",
    "\n",
    "# game-theoretic:\n",
    "import nashpy as nash\n",
    "\n",
    "# mesa:\n",
    "from mesa import Agent, Model\n",
    "from mesa.time import RandomActivation\n",
    "from mesa.datacollection import DataCollector\n",
    "\n",
    "#standards:\n",
    "import numpy as np\n",
    "import tqdm\n",
    "\n",
    "# graphics:\n",
    "import seaborn as sns\n",
    "import matplotlib.pyplot as plt\n",
    "\n",
    "# code formatting:\n",
    "%load_ext nb_black\n"
   ]
  },
  {
   "cell_type": "markdown",
   "metadata": {},
   "source": [
    "We define the high-low-game using the syntax provided by nashpy:"
   ]
  },
  {
   "cell_type": "code",
   "execution_count": 2,
   "metadata": {},
   "outputs": [
    {
     "data": {
      "text/plain": [
       "array([0.5, 0.5])"
      ]
     },
     "execution_count": 2,
     "metadata": {},
     "output_type": "execute_result"
    },
    {
     "data": {
      "application/javascript": [
       "\n",
       "            setTimeout(function() {\n",
       "                var nbb_cell_id = 2;\n",
       "                var nbb_unformatted_code = \"A = np.array([[2, 0], [0, 1]])\\ngame = nash.Game(A, A)\\n\\nsigma_a = [0.,1.]\\nsigma_b = [0.5,.5]\\ngame[sigma_a, sigma_b] # check exp. utility for two strategies.\";\n",
       "                var nbb_formatted_code = \"A = np.array([[2, 0], [0, 1]])\\ngame = nash.Game(A, A)\\n\\nsigma_a = [0.0, 1.0]\\nsigma_b = [0.5, 0.5]\\ngame[sigma_a, sigma_b]  # check exp. utility for two strategies.\";\n",
       "                var nbb_cells = Jupyter.notebook.get_cells();\n",
       "                for (var i = 0; i < nbb_cells.length; ++i) {\n",
       "                    if (nbb_cells[i].input_prompt_number == nbb_cell_id) {\n",
       "                        if (nbb_cells[i].get_text() == nbb_unformatted_code) {\n",
       "                             nbb_cells[i].set_text(nbb_formatted_code);\n",
       "                        }\n",
       "                        break;\n",
       "                    }\n",
       "                }\n",
       "            }, 500);\n",
       "            "
      ],
      "text/plain": [
       "<IPython.core.display.Javascript object>"
      ]
     },
     "metadata": {},
     "output_type": "display_data"
    }
   ],
   "source": [
    "A = np.array([[2, 0], [0, 1]])\n",
    "game = nash.Game(A, A)\n",
    "\n",
    "sigma_a = [0.,1.]\n",
    "sigma_b = [0.5,.5]\n",
    "game[sigma_a, sigma_b] # check exp. utility for two strategies.\n"
   ]
  },
  {
   "cell_type": "code",
   "execution_count": 3,
   "metadata": {},
   "outputs": [
    {
     "name": "stderr",
     "output_type": "stream",
     "text": [
      "C:\\Users\\noich\\anaconda3\\lib\\site-packages\\ipykernel_launcher.py:85: TqdmDeprecationWarning: This function will be removed in tqdm==5.0.0\n",
      "Please use `tqdm.notebook.tqdm` instead of `tqdm.tqdm_notebook`\n"
     ]
    },
    {
     "data": {
      "application/vnd.jupyter.widget-view+json": {
       "model_id": "c190828e71484ba4a9af48921908fe23",
       "version_major": 2,
       "version_minor": 0
      },
      "text/plain": [
       "  0%|          | 0/100 [00:00<?, ?it/s]"
      ]
     },
     "metadata": {},
     "output_type": "display_data"
    },
    {
     "data": {
      "application/javascript": [
       "\n",
       "            setTimeout(function() {\n",
       "                var nbb_cell_id = 3;\n",
       "                var nbb_unformatted_code = \"def random_argmax(b):  # argmax with tiebreaking.\\n    return np.random.choice(np.flatnonzero(b == np.max(b)))\\n\\n\\nclass MyAgent(Agent):\\n    \\\"\\\"\\\" \\\"\\\"\\\"\\n\\n    def __init__(self, unique_id, model, team_reasoner=False):\\n        super().__init__(unique_id, model)\\n\\n        self.team_reasoner = team_reasoner\\n        self.alive = True\\n        self.gathered_utility = 0\\n\\n    def step(self):\\n        #         The agent's step will go here.\\n        other_player = self.random.choice(self.model.schedule.agents)\\n\\n        #         print(self.model.game)\\n        choices = [\\n            self.reason(player.team_reasoner, player.model.game)\\n            for player in [self, other_player]\\n        ]\\n\\n        payoff = self.model.game[list(choices[0]), list(choices[1])]\\n        self.gathered_utility += payoff[0]\\n        pass\\n\\n    def reason(self, team_reasoner, game):\\n        if team_reasoner == True:\\n            if np.random.rand() < 0.6:\\n                choice = random_argmax([1, 0])\\n                strat = np.zeros(2)\\n                strat[choice] = 1\\n                return strat\\n            else:\\n                choice = random_argmax([0.5, 0.5])\\n                strat = np.zeros(2)\\n                strat[choice] = 1\\n                return strat\\n        else:\\n            choice = random_argmax([0.5, 0.5])\\n            strat = np.zeros(2)\\n            strat[choice] = 1\\n            return strat\\n\\n\\nclass MyModel(Model):\\n    \\\"\\\"\\\"\\\"\\\"\\\"\\n\\n    def __init__(self, proportion_team_reasoners, n_agents, game):\\n        super().__init__()\\n\\n        self.num_agents = n_agents\\n        self.schedule = RandomActivation(self)\\n        self.game = game\\n\\n        team_reason_until = int(proportion_team_reasoners * n_agents)\\n        for ix, i in enumerate(range(self.num_agents)):\\n            if ix < team_reason_until:\\n                a = MyAgent(unique_id=i, model=self, team_reasoner=True)\\n            else:\\n                a = MyAgent(unique_id=i, model=self, team_reasoner=False)\\n            self.schedule.add(a)\\n\\n        agent_reporters = {\\n            \\\"team_reasoner\\\": lambda a: getattr(a, \\\"team_reasoner\\\", None),\\n            \\\"gathered_utility\\\": lambda a: getattr(a, \\\"gathered_utility\\\", None),\\n            \\\"alive\\\": lambda a: getattr(a, \\\"alive\\\", None),\\n        }\\n\\n        model_reporters = {}\\n\\n        self.datacollector = DataCollector(\\n            model_reporters=model_reporters, agent_reporters=agent_reporters\\n        )\\n\\n    def step(self):\\n        self.schedule.step()\\n        self.datacollector.collect(self)\\n\\n\\nmodel = MyModel(proportion_team_reasoners=0.4, n_agents=200, game=nash.Game(A, A))\\n\\nfor t in tqdm.tqdm_notebook(range(100)):\\n    model.step()\";\n",
       "                var nbb_formatted_code = \"def random_argmax(b):  # argmax with tiebreaking.\\n    return np.random.choice(np.flatnonzero(b == np.max(b)))\\n\\n\\nclass MyAgent(Agent):\\n    \\\"\\\"\\\" \\\"\\\"\\\"\\n\\n    def __init__(self, unique_id, model, team_reasoner=False):\\n        super().__init__(unique_id, model)\\n\\n        self.team_reasoner = team_reasoner\\n        self.alive = True\\n        self.gathered_utility = 0\\n\\n    def step(self):\\n        #         The agent's step will go here.\\n        other_player = self.random.choice(self.model.schedule.agents)\\n\\n        #         print(self.model.game)\\n        choices = [\\n            self.reason(player.team_reasoner, player.model.game)\\n            for player in [self, other_player]\\n        ]\\n\\n        payoff = self.model.game[list(choices[0]), list(choices[1])]\\n        self.gathered_utility += payoff[0]\\n        pass\\n\\n    def reason(self, team_reasoner, game):\\n        if team_reasoner == True:\\n            if np.random.rand() < 0.6:\\n                choice = random_argmax([1, 0])\\n                strat = np.zeros(2)\\n                strat[choice] = 1\\n                return strat\\n            else:\\n                choice = random_argmax([0.5, 0.5])\\n                strat = np.zeros(2)\\n                strat[choice] = 1\\n                return strat\\n        else:\\n            choice = random_argmax([0.5, 0.5])\\n            strat = np.zeros(2)\\n            strat[choice] = 1\\n            return strat\\n\\n\\nclass MyModel(Model):\\n    \\\"\\\"\\\"\\\"\\\"\\\"\\n\\n    def __init__(self, proportion_team_reasoners, n_agents, game):\\n        super().__init__()\\n\\n        self.num_agents = n_agents\\n        self.schedule = RandomActivation(self)\\n        self.game = game\\n\\n        team_reason_until = int(proportion_team_reasoners * n_agents)\\n        for ix, i in enumerate(range(self.num_agents)):\\n            if ix < team_reason_until:\\n                a = MyAgent(unique_id=i, model=self, team_reasoner=True)\\n            else:\\n                a = MyAgent(unique_id=i, model=self, team_reasoner=False)\\n            self.schedule.add(a)\\n\\n        agent_reporters = {\\n            \\\"team_reasoner\\\": lambda a: getattr(a, \\\"team_reasoner\\\", None),\\n            \\\"gathered_utility\\\": lambda a: getattr(a, \\\"gathered_utility\\\", None),\\n            \\\"alive\\\": lambda a: getattr(a, \\\"alive\\\", None),\\n        }\\n\\n        model_reporters = {}\\n\\n        self.datacollector = DataCollector(\\n            model_reporters=model_reporters, agent_reporters=agent_reporters\\n        )\\n\\n    def step(self):\\n        self.schedule.step()\\n        self.datacollector.collect(self)\\n\\n\\nmodel = MyModel(proportion_team_reasoners=0.4, n_agents=200, game=nash.Game(A, A))\\n\\nfor t in tqdm.tqdm_notebook(range(100)):\\n    model.step()\";\n",
       "                var nbb_cells = Jupyter.notebook.get_cells();\n",
       "                for (var i = 0; i < nbb_cells.length; ++i) {\n",
       "                    if (nbb_cells[i].input_prompt_number == nbb_cell_id) {\n",
       "                        if (nbb_cells[i].get_text() == nbb_unformatted_code) {\n",
       "                             nbb_cells[i].set_text(nbb_formatted_code);\n",
       "                        }\n",
       "                        break;\n",
       "                    }\n",
       "                }\n",
       "            }, 500);\n",
       "            "
      ],
      "text/plain": [
       "<IPython.core.display.Javascript object>"
      ]
     },
     "metadata": {},
     "output_type": "display_data"
    }
   ],
   "source": [
    "def random_argmax(b):  # argmax with tiebreaking.\n",
    "    return np.random.choice(np.flatnonzero(b == np.max(b)))\n",
    "\n",
    "\n",
    "class MyAgent(Agent):\n",
    "    \"\"\" \"\"\"\n",
    "\n",
    "    def __init__(self, unique_id, model, team_reasoner=False):\n",
    "        super().__init__(unique_id, model)\n",
    "\n",
    "        self.team_reasoner = team_reasoner\n",
    "        self.alive = True\n",
    "        self.gathered_utility = 0\n",
    "\n",
    "    def step(self):\n",
    "        #         The agent's step will go here.\n",
    "        other_player = self.random.choice(self.model.schedule.agents)\n",
    "\n",
    "        #         print(self.model.game)\n",
    "        choices = [\n",
    "            self.reason(player.team_reasoner, player.model.game)\n",
    "            for player in [self, other_player]\n",
    "        ]\n",
    "\n",
    "        payoff = self.model.game[list(choices[0]), list(choices[1])]\n",
    "        self.gathered_utility += payoff[0]\n",
    "        pass\n",
    "\n",
    "    def reason(self, team_reasoner, game):\n",
    "        if team_reasoner == True:\n",
    "            if np.random.rand() < 0.6:\n",
    "                choice = random_argmax([1, 0])\n",
    "                strat = np.zeros(2)\n",
    "                strat[choice] = 1\n",
    "                return strat\n",
    "            else:\n",
    "                choice = random_argmax([0.5, 0.5])\n",
    "                strat = np.zeros(2)\n",
    "                strat[choice] = 1\n",
    "                return strat\n",
    "        else:\n",
    "            choice = random_argmax([0.5, 0.5])\n",
    "            strat = np.zeros(2)\n",
    "            strat[choice] = 1\n",
    "            return strat\n",
    "\n",
    "\n",
    "class MyModel(Model):\n",
    "    \"\"\"\"\"\"\n",
    "\n",
    "    def __init__(self, proportion_team_reasoners, n_agents, game):\n",
    "        super().__init__()\n",
    "\n",
    "        self.num_agents = n_agents\n",
    "        self.schedule = RandomActivation(self)\n",
    "        self.game = game\n",
    "\n",
    "        team_reason_until = int(proportion_team_reasoners * n_agents)\n",
    "        for ix, i in enumerate(range(self.num_agents)):\n",
    "            if ix < team_reason_until:\n",
    "                a = MyAgent(unique_id=i, model=self, team_reasoner=True)\n",
    "            else:\n",
    "                a = MyAgent(unique_id=i, model=self, team_reasoner=False)\n",
    "            self.schedule.add(a)\n",
    "\n",
    "        agent_reporters = {\n",
    "            \"team_reasoner\": lambda a: getattr(a, \"team_reasoner\", None),\n",
    "            \"gathered_utility\": lambda a: getattr(a, \"gathered_utility\", None),\n",
    "            \"alive\": lambda a: getattr(a, \"alive\", None),\n",
    "        }\n",
    "\n",
    "        model_reporters = {}\n",
    "\n",
    "        self.datacollector = DataCollector(\n",
    "            model_reporters=model_reporters, agent_reporters=agent_reporters\n",
    "        )\n",
    "\n",
    "    def step(self):\n",
    "        self.schedule.step()\n",
    "        self.datacollector.collect(self)\n",
    "\n",
    "\n",
    "model = MyModel(proportion_team_reasoners=0.4, n_agents=200, game=nash.Game(A, A))\n",
    "\n",
    "for t in tqdm.tqdm_notebook(range(100)):\n",
    "    model.step()"
   ]
  },
  {
   "cell_type": "code",
   "execution_count": 4,
   "metadata": {},
   "outputs": [
    {
     "data": {
      "application/javascript": [
       "\n",
       "            setTimeout(function() {\n",
       "                var nbb_cell_id = 4;\n",
       "                var nbb_unformatted_code = \"model_df = model.datacollector.get_model_vars_dataframe()\\nagent_df = model.datacollector.get_agent_vars_dataframe()\";\n",
       "                var nbb_formatted_code = \"model_df = model.datacollector.get_model_vars_dataframe()\\nagent_df = model.datacollector.get_agent_vars_dataframe()\";\n",
       "                var nbb_cells = Jupyter.notebook.get_cells();\n",
       "                for (var i = 0; i < nbb_cells.length; ++i) {\n",
       "                    if (nbb_cells[i].input_prompt_number == nbb_cell_id) {\n",
       "                        if (nbb_cells[i].get_text() == nbb_unformatted_code) {\n",
       "                             nbb_cells[i].set_text(nbb_formatted_code);\n",
       "                        }\n",
       "                        break;\n",
       "                    }\n",
       "                }\n",
       "            }, 500);\n",
       "            "
      ],
      "text/plain": [
       "<IPython.core.display.Javascript object>"
      ]
     },
     "metadata": {},
     "output_type": "display_data"
    }
   ],
   "source": [
    "model_df = model.datacollector.get_model_vars_dataframe()\n",
    "agent_df = model.datacollector.get_agent_vars_dataframe()"
   ]
  },
  {
   "cell_type": "code",
   "execution_count": 5,
   "metadata": {},
   "outputs": [
    {
     "data": {
      "text/html": [
       "<div>\n",
       "<style scoped>\n",
       "    .dataframe tbody tr th:only-of-type {\n",
       "        vertical-align: middle;\n",
       "    }\n",
       "\n",
       "    .dataframe tbody tr th {\n",
       "        vertical-align: top;\n",
       "    }\n",
       "\n",
       "    .dataframe thead th {\n",
       "        text-align: right;\n",
       "    }\n",
       "</style>\n",
       "<table border=\"1\" class=\"dataframe\">\n",
       "  <thead>\n",
       "    <tr style=\"text-align: right;\">\n",
       "      <th></th>\n",
       "      <th></th>\n",
       "      <th>team_reasoner</th>\n",
       "      <th>gathered_utility</th>\n",
       "      <th>alive</th>\n",
       "    </tr>\n",
       "    <tr>\n",
       "      <th>Step</th>\n",
       "      <th>AgentID</th>\n",
       "      <th></th>\n",
       "      <th></th>\n",
       "      <th></th>\n",
       "    </tr>\n",
       "  </thead>\n",
       "  <tbody>\n",
       "    <tr>\n",
       "      <th rowspan=\"5\" valign=\"top\">1</th>\n",
       "      <th>0</th>\n",
       "      <td>True</td>\n",
       "      <td>0.0</td>\n",
       "      <td>True</td>\n",
       "    </tr>\n",
       "    <tr>\n",
       "      <th>1</th>\n",
       "      <td>True</td>\n",
       "      <td>0.0</td>\n",
       "      <td>True</td>\n",
       "    </tr>\n",
       "    <tr>\n",
       "      <th>2</th>\n",
       "      <td>True</td>\n",
       "      <td>2.0</td>\n",
       "      <td>True</td>\n",
       "    </tr>\n",
       "    <tr>\n",
       "      <th>3</th>\n",
       "      <td>True</td>\n",
       "      <td>1.0</td>\n",
       "      <td>True</td>\n",
       "    </tr>\n",
       "    <tr>\n",
       "      <th>4</th>\n",
       "      <td>True</td>\n",
       "      <td>0.0</td>\n",
       "      <td>True</td>\n",
       "    </tr>\n",
       "    <tr>\n",
       "      <th>...</th>\n",
       "      <th>...</th>\n",
       "      <td>...</td>\n",
       "      <td>...</td>\n",
       "      <td>...</td>\n",
       "    </tr>\n",
       "    <tr>\n",
       "      <th rowspan=\"5\" valign=\"top\">100</th>\n",
       "      <th>195</th>\n",
       "      <td>False</td>\n",
       "      <td>87.0</td>\n",
       "      <td>True</td>\n",
       "    </tr>\n",
       "    <tr>\n",
       "      <th>196</th>\n",
       "      <td>False</td>\n",
       "      <td>84.0</td>\n",
       "      <td>True</td>\n",
       "    </tr>\n",
       "    <tr>\n",
       "      <th>197</th>\n",
       "      <td>False</td>\n",
       "      <td>85.0</td>\n",
       "      <td>True</td>\n",
       "    </tr>\n",
       "    <tr>\n",
       "      <th>198</th>\n",
       "      <td>False</td>\n",
       "      <td>70.0</td>\n",
       "      <td>True</td>\n",
       "    </tr>\n",
       "    <tr>\n",
       "      <th>199</th>\n",
       "      <td>False</td>\n",
       "      <td>97.0</td>\n",
       "      <td>True</td>\n",
       "    </tr>\n",
       "  </tbody>\n",
       "</table>\n",
       "<p>20000 rows × 3 columns</p>\n",
       "</div>"
      ],
      "text/plain": [
       "              team_reasoner  gathered_utility  alive\n",
       "Step AgentID                                        \n",
       "1    0                 True               0.0   True\n",
       "     1                 True               0.0   True\n",
       "     2                 True               2.0   True\n",
       "     3                 True               1.0   True\n",
       "     4                 True               0.0   True\n",
       "...                     ...               ...    ...\n",
       "100  195              False              87.0   True\n",
       "     196              False              84.0   True\n",
       "     197              False              85.0   True\n",
       "     198              False              70.0   True\n",
       "     199              False              97.0   True\n",
       "\n",
       "[20000 rows x 3 columns]"
      ]
     },
     "execution_count": 5,
     "metadata": {},
     "output_type": "execute_result"
    },
    {
     "data": {
      "application/javascript": [
       "\n",
       "            setTimeout(function() {\n",
       "                var nbb_cell_id = 5;\n",
       "                var nbb_unformatted_code = \"agent_df\";\n",
       "                var nbb_formatted_code = \"agent_df\";\n",
       "                var nbb_cells = Jupyter.notebook.get_cells();\n",
       "                for (var i = 0; i < nbb_cells.length; ++i) {\n",
       "                    if (nbb_cells[i].input_prompt_number == nbb_cell_id) {\n",
       "                        if (nbb_cells[i].get_text() == nbb_unformatted_code) {\n",
       "                             nbb_cells[i].set_text(nbb_formatted_code);\n",
       "                        }\n",
       "                        break;\n",
       "                    }\n",
       "                }\n",
       "            }, 500);\n",
       "            "
      ],
      "text/plain": [
       "<IPython.core.display.Javascript object>"
      ]
     },
     "metadata": {},
     "output_type": "display_data"
    }
   ],
   "source": [
    "agent_df"
   ]
  },
  {
   "cell_type": "code",
   "execution_count": 6,
   "metadata": {},
   "outputs": [
    {
     "data": {
      "application/javascript": [
       "\n",
       "            setTimeout(function() {\n",
       "                var nbb_cell_id = 6;\n",
       "                var nbb_unformatted_code = \"agent_df = agent_df.reset_index()\";\n",
       "                var nbb_formatted_code = \"agent_df = agent_df.reset_index()\";\n",
       "                var nbb_cells = Jupyter.notebook.get_cells();\n",
       "                for (var i = 0; i < nbb_cells.length; ++i) {\n",
       "                    if (nbb_cells[i].input_prompt_number == nbb_cell_id) {\n",
       "                        if (nbb_cells[i].get_text() == nbb_unformatted_code) {\n",
       "                             nbb_cells[i].set_text(nbb_formatted_code);\n",
       "                        }\n",
       "                        break;\n",
       "                    }\n",
       "                }\n",
       "            }, 500);\n",
       "            "
      ],
      "text/plain": [
       "<IPython.core.display.Javascript object>"
      ]
     },
     "metadata": {},
     "output_type": "display_data"
    }
   ],
   "source": [
    "agent_df = agent_df.reset_index()"
   ]
  },
  {
   "cell_type": "code",
   "execution_count": 7,
   "metadata": {},
   "outputs": [
    {
     "data": {
      "text/plain": [
       "Text(0.0, 1.0, 'Achieved utility in hilo after 100 iterations')"
      ]
     },
     "execution_count": 7,
     "metadata": {},
     "output_type": "execute_result"
    },
    {
     "data": {
      "image/png": "[encoded data removed]",
      "text/plain": [
       "<Figure size 576x576 with 1 Axes>"
      ]
     },
     "metadata": {
      "needs_background": "light"
     },
     "output_type": "display_data"
    },
    {
     "data": {
      "application/javascript": [
       "\n",
       "            setTimeout(function() {\n",
       "                var nbb_cell_id = 7;\n",
       "                var nbb_unformatted_code = \"fig, ax = plt.subplots(figsize=(8, 8))\\nplt.style.use(\\\"opinions.mplstyle\\\")\\n\\nto_plot = agent_df[agent_df[\\\"Step\\\"] == np.max(agent_df[\\\"Step\\\"])]\\n\\n# Plot the orbital period with horizontal boxes\\nsns.boxplot(\\n    x=\\\"team_reasoner\\\",\\n    y=\\\"gathered_utility\\\",\\n    data=to_plot,\\n    whis=[0, 100],\\n    width=0.6,\\n    palette=[\\\"#1a2340\\\", \\\"#f2ad00\\\"],\\n)\\n\\n# Add in points to show each observation\\nsns.stripplot(\\n    x=\\\"team_reasoner\\\",\\n    y=\\\"gathered_utility\\\",\\n    data=to_plot,\\n    size=4,\\n    color=\\\"black\\\",\\n    linewidth=0,\\n    alpha=0.5,\\n)\\n\\nplt.xlabel(\\\"Team-reasoner\\\")\\nplt.ylabel(\\\"Utility\\\")\\nplt.title(\\n    \\\"Achieved utility in hilo after \\\" + str(np.max(agent_df[\\\"Step\\\"])) + \\\" iterations\\\"\\n)\";\n",
       "                var nbb_formatted_code = \"fig, ax = plt.subplots(figsize=(8, 8))\\nplt.style.use(\\\"opinions.mplstyle\\\")\\n\\nto_plot = agent_df[agent_df[\\\"Step\\\"] == np.max(agent_df[\\\"Step\\\"])]\\n\\n# Plot the orbital period with horizontal boxes\\nsns.boxplot(\\n    x=\\\"team_reasoner\\\",\\n    y=\\\"gathered_utility\\\",\\n    data=to_plot,\\n    whis=[0, 100],\\n    width=0.6,\\n    palette=[\\\"#1a2340\\\", \\\"#f2ad00\\\"],\\n)\\n\\n# Add in points to show each observation\\nsns.stripplot(\\n    x=\\\"team_reasoner\\\",\\n    y=\\\"gathered_utility\\\",\\n    data=to_plot,\\n    size=4,\\n    color=\\\"black\\\",\\n    linewidth=0,\\n    alpha=0.5,\\n)\\n\\nplt.xlabel(\\\"Team-reasoner\\\")\\nplt.ylabel(\\\"Utility\\\")\\nplt.title(\\n    \\\"Achieved utility in hilo after \\\" + str(np.max(agent_df[\\\"Step\\\"])) + \\\" iterations\\\"\\n)\";\n",
       "                var nbb_cells = Jupyter.notebook.get_cells();\n",
       "                for (var i = 0; i < nbb_cells.length; ++i) {\n",
       "                    if (nbb_cells[i].input_prompt_number == nbb_cell_id) {\n",
       "                        if (nbb_cells[i].get_text() == nbb_unformatted_code) {\n",
       "                             nbb_cells[i].set_text(nbb_formatted_code);\n",
       "                        }\n",
       "                        break;\n",
       "                    }\n",
       "                }\n",
       "            }, 500);\n",
       "            "
      ],
      "text/plain": [
       "<IPython.core.display.Javascript object>"
      ]
     },
     "metadata": {},
     "output_type": "display_data"
    }
   ],
   "source": [
    "fig, ax = plt.subplots(figsize=(8, 8))\n",
    "plt.style.use(\"opinions.mplstyle\")\n",
    "\n",
    "to_plot = agent_df[agent_df[\"Step\"] == np.max(agent_df[\"Step\"])]\n",
    "\n",
    "# Plot the orbital period with horizontal boxes\n",
    "sns.boxplot(\n",
    "    x=\"team_reasoner\",\n",
    "    y=\"gathered_utility\",\n",
    "    data=to_plot,\n",
    "    whis=[0, 100],\n",
    "    width=0.6,\n",
    "    palette=[\"#1a2340\", \"#f2ad00\"],\n",
    ")\n",
    "\n",
    "# Add in points to show each observation\n",
    "sns.stripplot(\n",
    "    x=\"team_reasoner\",\n",
    "    y=\"gathered_utility\",\n",
    "    data=to_plot,\n",
    "    size=4,\n",
    "    color=\"black\",\n",
    "    linewidth=0,\n",
    "    alpha=0.5,\n",
    ")\n",
    "\n",
    "plt.xlabel(\"Team-reasoner\")\n",
    "plt.ylabel(\"Utility\")\n",
    "plt.title(\n",
    "    \"Achieved utility in hilo after \" + str(np.max(agent_df[\"Step\"])) + \" iterations\"\n",
    ")"
   ]
  }
 ],
 "metadata": {
  "kernelspec": {
   "display_name": "Python 3",
   "language": "python",
   "name": "python3"
  },
  "language_info": {
   "codemirror_mode": {
    "name": "ipython",
    "version": 3
   },
   "file_extension": ".py",
   "mimetype": "text/x-python",
   "name": "python",
   "nbconvert_exporter": "python",
   "pygments_lexer": "ipython3",
   "version": "3.7.6"
  },
  "varInspector": {
   "cols": {
    "lenName": 16,
    "lenType": 16,
    "lenVar": 40
   },
   "kernels_config": {
    "python": {
     "delete_cmd_postfix": "",
     "delete_cmd_prefix": "del ",
     "library": "var_list.py",
     "varRefreshCmd": "print(var_dic_list())"
    },
    "r": {
     "delete_cmd_postfix": ") ",
     "delete_cmd_prefix": "rm(",
     "library": "var_list.r",
     "varRefreshCmd": "cat(var_dic_list()) "
    }
   },
   "types_to_exclude": [
    "module",
    "function",
    "builtin_function_or_method",
    "instance",
    "_Feature"
   ],
   "window_display": false
  }
 },
 "nbformat": 4,
 "nbformat_minor": 4
}
